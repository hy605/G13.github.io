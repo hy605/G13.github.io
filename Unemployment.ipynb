{
 "cells": [
  {
   "cell_type": "code",
   "execution_count": null,
   "metadata": {},
   "outputs": [],
   "source": [
    "[← go back to the main page](../README.md)\n",
    "\n",
    "## Unemployment rate in the United States\n",
    "\n",
    "|Year|January|Februray|March|April|May|June|July|August|September|October|November|December|\n",
    "| ------------- | ------------- |------------- | ------------- |------------- | ------------- | ------------- | ------------- |------------- | ------------- |------------- | ------------- |------------- |\n",
    "|2020|3.6|3.5|4.4|14.7|13.3|11.1|10.2|8.4|7.9|6.9\n",
    "|2019|4|3.8|3.8|3.6|3.6|3.7|3.7|3.7|3.5|3.6|3.5|3.5\n",
    "|2018|4.1|4.1|4|3.9|3.8|4|3.9|3.8|3.7|3.8|3.7|3.9\n",
    "|2017|4.7|4.7|4.4|4.4|4.4|4.3|4.3|4.4|4.2|4.1|4.2|4.1\n",
    "|2016|4.9|4.9|5|5|4.8|4.9|4.8|4.9|5|4.9|4.7|4.7\n",
    "|2015|5.7|5.5|5.4|5.4|5.6|5.3|5.2|5.1|5|5|5.1|5\n",
    "|2014|6.6|6.7|6.7|6.2|6.3|6.1|6.2|6.1|5.9|5.7|5.8|5.6\n",
    "|2013|8|7.7|7.5|7.6|7.5|7.5|7.3|7.2|7.2|7.2|6.9|6.7\n",
    "|2012|8.3|8.3|8.2|8.2|8.2|8.2|8.2|8.1|7.8|7.8|7.7|7.9\n",
    "|2011|9.1|9|9|9.1|9|9.1|9|9|9|8.8|8.6|8.5"
   ]
  }
 ],
 "metadata": {
  "kernelspec": {
   "display_name": "Python 3",
   "language": "python",
   "name": "python3"
  },
  "language_info": {
   "codemirror_mode": {
    "name": "ipython",
    "version": 3
   },
   "file_extension": ".py",
   "mimetype": "text/x-python",
   "name": "python",
   "nbconvert_exporter": "python",
   "pygments_lexer": "ipython3",
   "version": "3.8.3"
  }
 },
 "nbformat": 4,
 "nbformat_minor": 4
}
