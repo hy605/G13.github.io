{
 "cells": [
  {
   "cell_type": "code",
   "execution_count": null,
   "metadata": {},
   "outputs": [],
   "source": [
    "[← go back to the main page](../README.md)\n",
    "\n",
    "## WHO COVID-19 global table data\n",
    "\n",
    "| Name  | WHO Region | Cases - cumulative total |Cases - cumulative total per 1 million population | Cases - newly reported in last 7 days|Cases - newly reported in last 24 hours|Deaths - cumulative total|Deaths - cumulative total per 1 million population|Deaths - newly reported in last 7 days|Deaths - newly reported in last 24 hours|Transmission Classification|\n",
    "| ------------- | ------------- |------------- | ------------- |------------- | ------------- | ------------- | ------------- |------------- | ------------- |------------- |\n",
    "|United States of America|Americas|13978171|42229.79|1214174|218671|274077|828.02|12617|2844|Community transmission|\n",
    "|India|South-East Asia|9608211|6962.45|257102|36652|139700|101.23|3500|512|Clusters of cases|\n",
    "|Brazil|Americas|6487084|30518.92|282864|50434|175270|824.57|3810|755|Community transmission|\n",
    "|Russian Federation|Europe|2431731|16663.17|189098|28782|42684|292.49|3616|508|Clusters of cases|\n",
    "|France|Europe|2228980|34148.31|71648|11107|54404|833.48|2850|625|Community transmission|\n",
    "|The United Kingdom|Europe|1690436|24901.09|101131|16298|60617|892.92|3066|504|Community transmission|\n",
    "|Italy|Europe|1688939|27933.97|150722|24110|58852|973.37|5175|814|Clusters of cases|\n",
    "|Spain|Europe|1684647|36031.55|45181|4226|46252|989.25|947|49|Community transmission|\n",
    "|Argentina|Americas|1447732|32032.46|48301|7629|39305|869.66|1364|149|Community transmission|\n",
    "|Colombia|Americas|1343322|26400.27|62835|9233|37305|733.15|1286|188|Community transmission|"
   ]
  }
 ],
 "metadata": {
  "kernelspec": {
   "display_name": "Python 3",
   "language": "python",
   "name": "python3"
  },
  "language_info": {
   "codemirror_mode": {
    "name": "ipython",
    "version": 3
   },
   "file_extension": ".py",
   "mimetype": "text/x-python",
   "name": "python",
   "nbconvert_exporter": "python",
   "pygments_lexer": "ipython3",
   "version": "3.8.3"
  }
 },
 "nbformat": 4,
 "nbformat_minor": 4
}
